{
 "cells": [
  {
   "cell_type": "code",
   "execution_count": 1,
   "metadata": {},
   "outputs": [],
   "source": [
    "import base64\n",
    "import json\n",
    "import pandas as pd\n",
    "import requests\n",
    "import tensorflow as tf"
   ]
  },
  {
   "cell_type": "code",
   "execution_count": 4,
   "metadata": {},
   "outputs": [
    {
     "data": {
      "text/html": [
       "<div>\n",
       "<style scoped>\n",
       "    .dataframe tbody tr th:only-of-type {\n",
       "        vertical-align: middle;\n",
       "    }\n",
       "\n",
       "    .dataframe tbody tr th {\n",
       "        vertical-align: top;\n",
       "    }\n",
       "\n",
       "    .dataframe thead th {\n",
       "        text-align: right;\n",
       "    }\n",
       "</style>\n",
       "<table border=\"1\" class=\"dataframe\">\n",
       "  <thead>\n",
       "    <tr style=\"text-align: right;\">\n",
       "      <th></th>\n",
       "      <th>Soil_Type</th>\n",
       "      <th>Sunlight_Hours</th>\n",
       "      <th>Water_Frequency</th>\n",
       "      <th>Fertilizer_Type</th>\n",
       "      <th>Temperature</th>\n",
       "      <th>Humidity</th>\n",
       "      <th>Growth_Milestone</th>\n",
       "    </tr>\n",
       "  </thead>\n",
       "  <tbody>\n",
       "    <tr>\n",
       "      <th>0</th>\n",
       "      <td>loam</td>\n",
       "      <td>5.192294</td>\n",
       "      <td>bi-weekly</td>\n",
       "      <td>chemical</td>\n",
       "      <td>31.719602</td>\n",
       "      <td>61.591861</td>\n",
       "      <td>0</td>\n",
       "    </tr>\n",
       "    <tr>\n",
       "      <th>1</th>\n",
       "      <td>sandy</td>\n",
       "      <td>4.033133</td>\n",
       "      <td>weekly</td>\n",
       "      <td>organic</td>\n",
       "      <td>28.919484</td>\n",
       "      <td>52.422276</td>\n",
       "      <td>1</td>\n",
       "    </tr>\n",
       "    <tr>\n",
       "      <th>2</th>\n",
       "      <td>loam</td>\n",
       "      <td>8.892769</td>\n",
       "      <td>bi-weekly</td>\n",
       "      <td>none</td>\n",
       "      <td>23.179059</td>\n",
       "      <td>44.660539</td>\n",
       "      <td>0</td>\n",
       "    </tr>\n",
       "    <tr>\n",
       "      <th>3</th>\n",
       "      <td>loam</td>\n",
       "      <td>8.241144</td>\n",
       "      <td>bi-weekly</td>\n",
       "      <td>none</td>\n",
       "      <td>18.465886</td>\n",
       "      <td>46.433227</td>\n",
       "      <td>0</td>\n",
       "    </tr>\n",
       "    <tr>\n",
       "      <th>4</th>\n",
       "      <td>sandy</td>\n",
       "      <td>8.374043</td>\n",
       "      <td>bi-weekly</td>\n",
       "      <td>organic</td>\n",
       "      <td>18.128741</td>\n",
       "      <td>63.625923</td>\n",
       "      <td>0</td>\n",
       "    </tr>\n",
       "  </tbody>\n",
       "</table>\n",
       "</div>"
      ],
      "text/plain": [
       "  Soil_Type  Sunlight_Hours Water_Frequency Fertilizer_Type  Temperature  \\\n",
       "0      loam        5.192294       bi-weekly        chemical    31.719602   \n",
       "1     sandy        4.033133          weekly         organic    28.919484   \n",
       "2      loam        8.892769       bi-weekly            none    23.179059   \n",
       "3      loam        8.241144       bi-weekly            none    18.465886   \n",
       "4     sandy        8.374043       bi-weekly         organic    18.128741   \n",
       "\n",
       "    Humidity  Growth_Milestone  \n",
       "0  61.591861                 0  \n",
       "1  52.422276                 1  \n",
       "2  44.660539                 0  \n",
       "3  46.433227                 0  \n",
       "4  63.625923                 0  "
      ]
     },
     "execution_count": 4,
     "metadata": {},
     "output_type": "execute_result"
    }
   ],
   "source": [
    "plant = pd.read_csv(\"data/plant_growth_data.csv\")\n",
    "\n",
    "plant.head()"
   ]
  },
  {
   "cell_type": "code",
   "execution_count": 55,
   "metadata": {},
   "outputs": [
    {
     "data": {
      "text/plain": [
       "Soil_Type              sandy\n",
       "Sunlight_Hours      4.033133\n",
       "Water_Frequency       weekly\n",
       "Fertilizer_Type      organic\n",
       "Temperature        28.919484\n",
       "Humidity           52.422276\n",
       "Name: 1, dtype: object"
      ]
     },
     "execution_count": 55,
     "metadata": {},
     "output_type": "execute_result"
    }
   ],
   "source": [
    "test_data = plant.drop(columns=['Growth_Milestone']).iloc[1]\n",
    "test_data"
   ]
  },
  {
   "cell_type": "code",
   "execution_count": 56,
   "metadata": {},
   "outputs": [],
   "source": [
    "def prepare_json(input_data):\n",
    "    # Extract inputs from dictionary\n",
    "    soil_type = input_data['Soil_Type']\n",
    "    sunlight_hours = input_data['Sunlight_Hours']\n",
    "    water_frequency = input_data['Water_Frequency']\n",
    "    fertilizer_type = input_data['Fertilizer_Type']\n",
    "    temperature = input_data['Temperature']\n",
    "    humidity = input_data['Humidity']\n",
    "\n",
    "    # Define the feature specification\n",
    "    feature_spec = {\n",
    "        \"Soil_Type\": tf.train.Feature(\n",
    "            bytes_list=tf.train.BytesList(value=[bytes(soil_type, \"utf-8\")])\n",
    "        ),\n",
    "        \"Sunlight_Hours\": tf.train.Feature(\n",
    "            float_list=tf.train.FloatList(value=[sunlight_hours])\n",
    "        ),\n",
    "        \"Water_Frequency\": tf.train.Feature(\n",
    "            bytes_list=tf.train.BytesList(value=[bytes(water_frequency, \"utf-8\")])\n",
    "        ),\n",
    "        \"Fertilizer_Type\": tf.train.Feature(\n",
    "            bytes_list=tf.train.BytesList(value=[bytes(fertilizer_type, \"utf-8\")])\n",
    "        ),\n",
    "        \"Temperature\": tf.train.Feature(\n",
    "            float_list=tf.train.FloatList(value=[temperature])\n",
    "        ),\n",
    "        \"Humidity\": tf.train.Feature(\n",
    "            float_list=tf.train.FloatList(value=[humidity])\n",
    "        )\n",
    "    }\n",
    "\n",
    "    # Create an Example object\n",
    "    example = tf.train.Example(\n",
    "        features=tf.train.Features(feature=feature_spec)\n",
    "    )\n",
    "\n",
    "    # Serialize to string\n",
    "    example_string = example.SerializeToString()\n",
    "\n",
    "    # Encode to base64\n",
    "    encoded_example = base64.b64encode(example_string).decode()\n",
    "\n",
    "    # Prepare the JSON request\n",
    "    json_data = {\n",
    "        \"signature_name\": \"serving_default\",\n",
    "        \"instances\": [{\n",
    "            \"examples\": {\n",
    "                \"b64\": encoded_example\n",
    "            }\n",
    "        }]\n",
    "    }\n",
    "\n",
    "    return json.dumps(json_data)\n",
    "\n",
    "\n",
    "def make_predictions(input_data):\n",
    "    json_data = prepare_json(input_data)\n",
    "\n",
    "    endpoint = \"http://localhost:8080/v1/models/plantgrowth-model:predict\"\n",
    "    try:\n",
    "        response = requests.post(endpoint, json=json.loads(json_data))\n",
    "\n",
    "        if response.status_code == 200:\n",
    "            predictions = response.json()[\"predictions\"][0][0]\n",
    "            prediction_label = \"1\" if predictions >= 0.5 else \"0\"\n",
    "            return {\n",
    "                \"prediction\": predictions,\n",
    "                \"label\": prediction_label\n",
    "            }\n",
    "        else:\n",
    "            return {\"error\": f\"Failed to get predictions from the model. Status code: {response.status_code}\"}\n",
    "    except requests.exceptions.RequestException as e:\n",
    "        return {\"error\": f\"Error during request to model server: {str(e)}\"}\n"
   ]
  },
  {
   "cell_type": "code",
   "execution_count": 57,
   "metadata": {},
   "outputs": [
    {
     "name": "stdout",
     "output_type": "stream",
     "text": [
      "Prediction: {'prediction': 0.725691617, 'label': '1'}\n"
     ]
    }
   ],
   "source": [
    "prediction_result = make_predictions(test_data)\n",
    "print(\"Prediction:\", prediction_result)"
   ]
  },
  {
   "cell_type": "code",
   "execution_count": 60,
   "metadata": {},
   "outputs": [
    {
     "name": "stdout",
     "output_type": "stream",
     "text": [
      "Actual Label: 1\n"
     ]
    }
   ],
   "source": [
    "actual_label = plant[\"Growth_Milestone\"][1]\n",
    "print(\"Actual Label:\", actual_label)"
   ]
  }
 ],
 "metadata": {
  "kernelspec": {
   "display_name": "proyek1",
   "language": "python",
   "name": "python3"
  },
  "language_info": {
   "codemirror_mode": {
    "name": "ipython",
    "version": 3
   },
   "file_extension": ".py",
   "mimetype": "text/x-python",
   "name": "python",
   "nbconvert_exporter": "python",
   "pygments_lexer": "ipython3",
   "version": "3.9.15"
  }
 },
 "nbformat": 4,
 "nbformat_minor": 2
}
